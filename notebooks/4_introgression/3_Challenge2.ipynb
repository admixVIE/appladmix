{
 "cells": [
  {
   "cell_type": "markdown",
   "id": "415f0298-eab6-469c-b7b8-9906aad2c666",
   "metadata": {},
   "source": [
    "# And now: Challenge 2\n",
    "\n",
    "## The rules are the same:\n",
    "\n",
    "* You got to know some tools, and with these you should be able to solve the questions below.\n",
    "\n",
    "\n",
    "* The goal is to try and find out! If not everything is done, it will be ok.\n",
    "\n",
    "\n",
    "* Remember that there are manuals and help functions for each tool!\n",
    "\n",
    "\n",
    "* Online resources are explicitly allowed!\n",
    "\n",
    "\n",
    "* Helping each other and discussing is good practice as well.\n",
    "\n",
    "\n",
    "* Hand in your results on Moodle!\n",
    "\n"
   ]
  },
  {
   "cell_type": "markdown",
   "id": "c7addffe",
   "metadata": {},
   "source": [
    "## A)\n",
    "\n",
    "Get the number of heterozygous positions **only within the putatively introgressed regions only for one individual**. What do you see?\n",
    "\n",
    "**Result:** commands to do this, numbers of heterozygous positions, interpretation.\n"
   ]
  },
  {
   "cell_type": "markdown",
   "id": "6b57c2d3-422b-4556-a4e4-d796a2fc1b8f",
   "metadata": {},
   "source": [
    "## B)\n",
    "\n",
    "Using sstar, how many **Denisovan-like introgressed fragments** are there in each Spanish individual (matchrate >0.33)?\n",
    "\n",
    "**Result:** commands to get these results, and numbers of fragments.\n",
    "\n",
    "(You may calculate this regardless of being also Neandertal-like. Or, following the sstar manual, do a comparison between them.)\n"
   ]
  },
  {
   "cell_type": "markdown",
   "id": "0064c355-86fb-4b9c-b22b-3685531ce9ff",
   "metadata": {
    "jp-MarkdownHeadingCollapsed": true,
    "tags": []
   },
   "source": [
    "## C)\n",
    "\n",
    "Now, we go back to the material of the previous session, admixtools.\n",
    "\n",
    "In the dataset, there are Mbuti (African Hunter-Gatherer), Yoruba, present-day and one ancient Spanish, the ancient Oase sample from Romania, the Vindija Neanderthal, the Altai Neanderthal, and chimpanzee. Calculate the **f-statistics** of the forms:\n",
    "\n",
    "> f3(Mbuti;Yoruba,X) with X=Spanish, ancient Spanish, and Oase\n",
    "\n",
    "*Mbuti is an outgroup to the others - which individual is closer to Yoruba and why?\n",
    "\n",
    "and\n",
    "\n",
    "> f4(Oase,Spanish(old and new);Neanderthals,Chimpanzee)\n",
    "\n",
    "*Who has more gene flow from Neanderthals?*\n",
    "\n",
    "and\n",
    "\n",
    "> f4(Yoruba,Spanish;both Neanderthals,Chimpanzee)\n",
    "\n",
    "*Which Neanderthal is closer to the introgressed Neanderthal in Europeans?*\n",
    "\n",
    "\n",
    "**Result:** Code to perform this task, f-statistics output, interpretation.\n"
   ]
  },
  {
   "cell_type": "markdown",
   "id": "b1229af2-f467-4377-a7e1-1b5fdfd50468",
   "metadata": {},
   "source": [
    "## D)  [bonus, in case you are done quickly and getting bored]\n",
    "**Plot** the number and cumulative lengths of Denisovan-like and Neandertal-like fragments in each individual! This could be as simple as separate barplots, or, if you are more familiar with plotting in R, more fancy figures.\n",
    "\n",
    "**Result:** Plots & the code to get there (R or another language if you know one).\n"
   ]
  },
  {
   "cell_type": "code",
   "execution_count": null,
   "id": "7b2c57a3-b8cf-4c1c-9be4-224ee0f47d9d",
   "metadata": {},
   "outputs": [],
   "source": []
  }
 ],
 "metadata": {
  "kernelspec": {
   "display_name": "Python 3 (ipykernel)",
   "language": "python",
   "name": "python3"
  },
  "language_info": {
   "codemirror_mode": {
    "name": "ipython",
    "version": 3
   },
   "file_extension": ".py",
   "mimetype": "text/x-python",
   "name": "python",
   "nbconvert_exporter": "python",
   "pygments_lexer": "ipython3",
   "version": "3.8.13"
  }
 },
 "nbformat": 4,
 "nbformat_minor": 5
}
