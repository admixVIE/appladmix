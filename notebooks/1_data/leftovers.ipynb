{
 "cells": [
  {
   "cell_type": "code",
   "execution_count": null,
   "id": "28c8d69f",
   "metadata": {},
   "outputs": [],
   "source": [
    "# Sequencing data\n",
    "\n",
    "Raw sequencing reads: `fastq` format\n",
    "\n",
    "Reference genomes: `fasta` format\n",
    "\n",
    "\n",
    "## Mapping\n",
    "\n",
    "`bwa mem`\n",
    "\n",
    "Mapped reads: `bam` format\n",
    "\n",
    "\n",
    "## Using BAM (SAM) files\n",
    "\n",
    "`samtools view` - show the content\n",
    "\n",
    "`samtools stats` - calculate statistics\n",
    "\n",
    "`samtools sort` - sort the alignments\n",
    "\n",
    "`samtools index` - create index\n",
    "\n",
    "\n",
    "## Genotype calling\n",
    "\n",
    "`gatk HaplotypeCaller -R reference.fa -I input.bam -O output.vcf.gz`\n",
    "\n",
    "Genotype call format: vcf files\n",
    "\n",
    "\n",
    "## VCF files\n",
    "\n",
    "`bcftools view` - show the content\n",
    "\n",
    "`bcftools stats` - calculate statistics\n"
   ]
  }
 ],
 "metadata": {
  "kernelspec": {
   "display_name": "Python 3 (ipykernel)",
   "language": "python",
   "name": "python3"
  },
  "language_info": {
   "codemirror_mode": {
    "name": "ipython",
    "version": 3
   },
   "file_extension": ".py",
   "mimetype": "text/x-python",
   "name": "python",
   "nbconvert_exporter": "python",
   "pygments_lexer": "ipython3",
   "version": "3.8.13"
  }
 },
 "nbformat": 4,
 "nbformat_minor": 5
}
