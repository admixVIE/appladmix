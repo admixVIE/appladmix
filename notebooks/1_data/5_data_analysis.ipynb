{
 "cells": [
  {
   "cell_type": "markdown",
   "id": "cc419d21",
   "metadata": {},
   "source": [
    "# Data analysis\n",
    "\n",
    "It's important to get some idea on what we have there. That is, for example, what is the diversity of these populations?\n",
    "\n",
    "Let's start with heterozygosity (how many heterozygous sites are there in this chromosome?). It is very easy to obtain, again with bcftools:\n",
    "\n",
    "```\n",
    "bcftools stats -s -  chr21.merged.vcf.gz | grep \"^PSC\" -B 1 > hets.txt\n",
    "```\n",
    "\n",
    "If you inspect the file, you will see that there is one line per sample, with several columns containing the statistics. Column 6 is the number of Hets.\n",
    "\n",
    "Maybe this is easier in `R`?\n",
    "\n",
    "We can:\n",
    "* run R from the command line `R --vanilla` or in Rstudio and go to your own directory with `setwd()`\n",
    "\n",
    "* read in these summary tables\n",
    "\n",
    "* plot a histogram\n",
    "\n",
    "* calculate the mean for CEU and YRI separately, compared to the archaics\n",
    "\n",
    "* perform a statistical test of CEU and YRI are different\n",
    "\n",
    "* There is ~30 million bases for which we can have data on chr21, often heterozygosity is expressed als hets per 1,000bp. We can present the values in such a way.\n",
    "\n",
    "\n",
    "```\n",
    "hets<-read.table(\"hets.txt\", sep=\"\\t\",header=T,comment.char=\"\")\n",
    "\n",
    "png(\"hets_histogram.png\",600,600)\n",
    "hist(hets[,6],breaks=20)\n",
    "dev.off()\n",
    "\n",
    "\n",
    "ceu<-unlist(read.table(\"~/appladmix/notebooks/1_data/data/CEU.list\", sep=\"\\t\",header=F))\n",
    "yri<-unlist(read.table(\"~/appladmix/notebooks/1_data/data/YRI.list\", sep=\"\\t\",header=F))\n",
    "\n",
    "wilcox.test(hets[which(hets[,3]%in%ceu),6],hets[which(hets[,3]%in%yri),6])\n",
    "\n",
    "genom=30000000\n",
    "\n",
    "mean(hets[which(hets[,3]%in%ceu),6])/genom*1000\n",
    "mean(hets[which(hets[,3]%in%yri),6])/genom*1000\n",
    "hets[which(hets[,3]%in%c(\"AltaiNea\",\"DenisovaPinky\")),6]/genom*1000\n",
    "\n",
    "```\n",
    "\n",
    "## Genetic diversity\n",
    "\n",
    "The number of heterozygous positions reflects an evolutionarily important feature, as it is a very direct metric of genetic diversity.\n",
    "\n",
    "* We can interpret the numbers above in the context of evolution.\n",
    "* Which evolutionary forces can influence the observed heterozygosity?\n",
    "* Which technical problems can influence it?\n"
   ]
  },
  {
   "cell_type": "markdown",
   "id": "71d95c7f",
   "metadata": {},
   "source": [
    "# Now, let's go for the first challenge!"
   ]
  }
 ],
 "metadata": {
  "kernelspec": {
   "display_name": "Python 3 (ipykernel)",
   "language": "python",
   "name": "python3"
  },
  "language_info": {
   "codemirror_mode": {
    "name": "ipython",
    "version": 3
   },
   "file_extension": ".py",
   "mimetype": "text/x-python",
   "name": "python",
   "nbconvert_exporter": "python",
   "pygments_lexer": "ipython3",
   "version": "3.8.13"
  }
 },
 "nbformat": 4,
 "nbformat_minor": 5
}
