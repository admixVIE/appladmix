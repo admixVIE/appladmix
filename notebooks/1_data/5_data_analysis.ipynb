{
 "cells": [
  {
   "cell_type": "markdown",
   "id": "cc419d21",
   "metadata": {},
   "source": [
    "# Data analysis\n",
    "\n",
    "## Heterozygosity\n",
    "\n",
    "It's important to get some idea on what we have there. That is, for example, what is the diversity of these populations?\n",
    "\n",
    "Let's start with heterozygosity (how many heterozygous sites are there in this chromosome?). It is very easy to obtain, again with `bcftools`.  With `-s` samples are selected, and the rows starting on `PSC` are per-sample-counts. This table would be the raw table.\n",
    "\n",
    "```\n",
    "bcftools stats -s -  merged_file.vcf.gz | grep \"^PSC\" -B 1 > hets.txt\n",
    "```\n",
    "\n",
    "If you inspect the file, you will see that there is one line per sample, with several columns containing the statistics. Column 6 is the number of Hets.\n",
    "\n",
    "Maybe this is easier in `R`?\n",
    "\n",
    "Run R from the command line `R --vanilla` or in Rstudio and go to your own directory with `setwd(\"/lisc/scratch/course/2025w300072/yourdirectory\")`, and perform the following tasks:\n",
    "\n",
    "* Read in the summary table\n",
    "\n",
    "* Plot a histogram\n",
    "\n",
    "* Calculate the mean for CEU and YRI separately, compared to the archaics\n",
    "\n",
    "* Perform a statistical test whether CEU and YRI are different\n",
    "\n",
    "\n",
    "<details>\n",
    "  <summary>\n",
    "    <font size=\"3\" color=\"darkgreen\">\n",
    "      <b>Hint</b>\n",
    "    </font>\n",
    "  </summary>\n",
    "\n",
    "What is a Wilcoxon Rank Sum test?\n",
    "\n",
    "</details>\n",
    "\n",
    "\n",
    "* There are ~30 million bases for which we can have data on chr21. Often heterozygosity is expressed als hets per 1,000bp. Calculate this and  present the values in such a way.\n",
    "\n",
    "\n",
    "\n",
    "## Genetic diversity\n",
    "\n",
    "The number of heterozygous positions reflects an evolutionarily important feature, as it is a very direct metric of genetic diversity.\n",
    "\n",
    "* Can you interpret the numbers above in the context of evolution?\n",
    "* Which evolutionary forces can influence the observed heterozygosity?\n",
    "* Which technical problems can influence it?\n"
   ]
  },
  {
   "cell_type": "code",
   "execution_count": null,
   "id": "ed72c2ad",
   "metadata": {},
   "outputs": [],
   "source": []
  }
 ],
 "metadata": {
  "kernelspec": {
   "display_name": "Python 3 (ipykernel)",
   "language": "python",
   "name": "python3"
  },
  "language_info": {
   "codemirror_mode": {
    "name": "ipython",
    "version": 3
   },
   "file_extension": ".py",
   "mimetype": "text/x-python",
   "name": "python",
   "nbconvert_exporter": "python",
   "pygments_lexer": "ipython3",
   "version": "3.10.12"
  }
 },
 "nbformat": 4,
 "nbformat_minor": 5
}
