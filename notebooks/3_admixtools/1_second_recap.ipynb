{
 "cells": [
  {
   "cell_type": "markdown",
   "id": "5a3dd180-3bd2-483c-80e8-65a61b92d80d",
   "metadata": {},
   "source": [
    "# BEFORE Recapitulation: install software!\n",
    "\n",
    "Do the following in the terminal to install the software we will need today.\n",
    "\n",
    "```\n",
    "R --vanilla\n",
    "install.packages(c(\"igraph\",\"dplyr\",\"plotly\"),repos=\"https://cloud.r-project.org\",upgrade=\"never\")\n",
    "devtools::install_github(\"uqrmaie1/admixtools\",repos=\"https://cloud.r-project.org\",upgrade=\"never\")\n",
    "library(\"admixtools\")\n",
    "```\n"
   ]
  },
  {
   "attachments": {
    "image-2.png": {
     "image/png": "[encoded data removed]"
    }
   },
   "cell_type": "markdown",
   "id": "85c2d356-a24c-48c1-b1de-1e1c68e447dd",
   "metadata": {
    "tags": []
   },
   "source": [
    "# Recapitulation\n",
    "\n",
    "## The terminal\n",
    "\n",
    "![image-2.png](attachment:image-2.png)\n"
   ]
  },
  {
   "cell_type": "markdown",
   "id": "a1e8e9b3-94df-4f4d-9b5a-d500161d03be",
   "metadata": {},
   "source": [
    "# Command line tools\n",
    "\n",
    "## Navigation & file handling\n",
    "\n",
    "`cd, ls, less, cat, zcat` etc.\n",
    "\n",
    "`grep`, `cut`, `awk` to subset files\n",
    "\n",
    "Pipes `|`, wildcards `*`, TAB and arrows. \n",
    "\n",
    "Escape special character with backslash: `\\*` is not a wildcard anymore, e.g. `grep \".\"` vs. `grep \"\\.\"`!\n",
    "\n",
    "## loops & variables\n",
    "\n",
    "```\n",
    "for i in {1..5}; do\n",
    "echo $i\n",
    "echo \"success\"\n",
    "done\n",
    "```\n",
    "\n",
    "## Sequencing data\n",
    "\n",
    "`bwa mem` for mapping (from fastq to bam, with reference genome)\n",
    "\n",
    "`samtools view` etc to look at aligned reads\n",
    "\n",
    "`gatk` for genotype calling (from bam to vcf format)\n"
   ]
  },
  {
   "cell_type": "markdown",
   "id": "865f2fb6-8e2a-4926-b266-5d266ce5ff4a",
   "metadata": {},
   "source": [
    "# VCF files\n",
    "\n",
    "## bcftools\n",
    "\n",
    "bcftools to filter, analyse and subset large genotype tables, bgzip to compress them (e.g. 1.1 GB to 44 MB). This tool can pipe input and output!\n",
    "\n",
    "`bcftools view file.vcf.gz` to decompress\n",
    "\n",
    "`bcftools view -s \"sample1,sample2\" file.vcf.gz` to subset\n",
    "\n",
    "`bcftools view -a -s \"sample1\" file.vcf.gz` to subset and trim alleles = only ALT alleles within your dataset are kept\n",
    "\n",
    "`bcftools view -a -s ^\"sample1,sample2\" file.vcf.gz` to remove individuals and keep the rest\n",
    "\n",
    "`bcftools view -S mylist.txt file.vcf.gz` to subset with a list\n",
    "\n",
    "`bcftools view -m 2 -M 2 -v snps mylist.txt file.vcf.gz` to filter for biallelic SNPs\n"
   ]
  },
  {
   "cell_type": "code",
   "execution_count": null,
   "id": "f0022b80-be65-4548-8dc5-1a5a2070280f",
   "metadata": {},
   "outputs": [],
   "source": []
  }
 ],
 "metadata": {
  "kernelspec": {
   "display_name": "Python 3 (ipykernel)",
   "language": "python",
   "name": "python3"
  },
  "language_info": {
   "codemirror_mode": {
    "name": "ipython",
    "version": 3
   },
   "file_extension": ".py",
   "mimetype": "text/x-python",
   "name": "python",
   "nbconvert_exporter": "python",
   "pygments_lexer": "ipython3",
   "version": "3.10.12"
  }
 },
 "nbformat": 4,
 "nbformat_minor": 5
}
