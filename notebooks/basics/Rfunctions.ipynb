{
 "cells": [
  {
   "cell_type": "markdown",
   "id": "64accf30",
   "metadata": {},
   "source": [
    "# R functions\n",
    "\n",
    "## Custom functions\n",
    "\n",
    "Simple example: \n",
    "`my_function<-function(input) { sum(input)*50 } `\n",
    "\n",
    "\n",
    "An example: multiply value with a vector, and check if values are positive\n",
    "```\n",
    "myfunc<-function(input1, input2) {\n",
    "  r1<-input1*input2\n",
    "  for (j in (1:length(r1))) {\n",
    "    if (r1[j]<0) {r1[j]<-NA}  \n",
    "    }\n",
    "    return(r1)\n",
    "  }\n",
    "\n",
    "i1<-sample(seq(50:149),11)\n",
    "i2<-rnorm(n=100,mean=50,sd=33)\n",
    "\n",
    "myresult<-lapply(i1,myfunc,input2=i2)\n",
    "```\n",
    "What is happening?\n"
   ]
  },
  {
   "cell_type": "markdown",
   "id": "ffd0fc15",
   "metadata": {},
   "source": [
    "## Inspect it with plots:\n",
    "\n",
    "```\n",
    "plot(myresult[[1]],i2)\n",
    "\n",
    "hist(i2)\n",
    "\n",
    "barplot(i1,col=\"red\")\n",
    "```\n"
   ]
  },
  {
   "cell_type": "code",
   "execution_count": null,
   "id": "f6173b6c",
   "metadata": {},
   "outputs": [],
   "source": []
  }
 ],
 "metadata": {
  "kernelspec": {
   "display_name": "Python 3 (ipykernel)",
   "language": "python",
   "name": "python3"
  },
  "language_info": {
   "codemirror_mode": {
    "name": "ipython",
    "version": 3
   },
   "file_extension": ".py",
   "mimetype": "text/x-python",
   "name": "python",
   "nbconvert_exporter": "python",
   "pygments_lexer": "ipython3",
   "version": "3.8.13"
  }
 },
 "nbformat": 4,
 "nbformat_minor": 5
}
