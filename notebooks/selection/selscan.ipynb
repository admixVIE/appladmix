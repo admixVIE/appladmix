{
 "cells": [
  {
   "cell_type": "markdown",
   "id": "0d7cee04",
   "metadata": {},
   "source": [
    "## Download selscan"
   ]
  },
  {
   "cell_type": "code",
   "execution_count": null,
   "id": "faeff733",
   "metadata": {},
   "outputs": [],
   "source": [
    "%%bash\n",
    "git clone https://github.com/szpiech/selscan"
   ]
  },
  {
   "cell_type": "markdown",
   "id": "bbb2b8f9",
   "metadata": {},
   "source": [
    "## Run selscan"
   ]
  },
  {
   "cell_type": "code",
   "execution_count": null,
   "id": "b2651202",
   "metadata": {},
   "outputs": [],
   "source": [
    "%%bash\n",
    "./selscan/bin/linux/selscan --vcf ./data/chr2.CEU.LCT.flank.1mb.biallelic.snps.vcf.gz\\\n",
    "                            --map ./data/chr2.CEU.LCT.flank.1mb.biallelic.snps.map --ihs"
   ]
  },
  {
   "cell_type": "markdown",
   "id": "6cb89da2",
   "metadata": {},
   "source": [
    "## Check results"
   ]
  },
  {
   "cell_type": "code",
   "execution_count": null,
   "id": "252726db",
   "metadata": {},
   "outputs": [],
   "source": [
    "import pandas as pd\n",
    "res = pd.read_csv(\"outfile.ihs.out\", sep=\"\\t\", header=None)\n",
    "res.columns = ['SNP', 'pos', 'allele 1 frequency', 'ihh1', 'ihh0', 'unstandardized iHS score']"
   ]
  },
  {
   "cell_type": "code",
   "execution_count": null,
   "id": "57255fed",
   "metadata": {},
   "outputs": [],
   "source": [
    "res.head()"
   ]
  },
  {
   "cell_type": "code",
   "execution_count": null,
   "id": "9c72477b",
   "metadata": {},
   "outputs": [],
   "source": [
    "res_sorted = res.sort_values(by=['unstandardized iHS score'], ascending=False)\n",
    "res_sorted.head(100)"
   ]
  },
  {
   "cell_type": "code",
   "execution_count": null,
   "id": "2f672a7b",
   "metadata": {},
   "outputs": [],
   "source": [
    "res_sorted[res_sorted['SNP'] == 'rs4988235']"
   ]
  },
  {
   "cell_type": "code",
   "execution_count": null,
   "id": "ab59b4cb",
   "metadata": {},
   "outputs": [],
   "source": [
    "res_sorted[res_sorted['SNP'] == 'rs182549']"
   ]
  }
 ],
 "metadata": {
  "kernelspec": {
   "display_name": "Python 3 (ipykernel)",
   "language": "python",
   "name": "python3"
  },
  "language_info": {
   "codemirror_mode": {
    "name": "ipython",
    "version": 3
   },
   "file_extension": ".py",
   "mimetype": "text/x-python",
   "name": "python",
   "nbconvert_exporter": "python",
   "pygments_lexer": "ipython3",
   "version": "3.10.5"
  }
 },
 "nbformat": 4,
 "nbformat_minor": 5
}
