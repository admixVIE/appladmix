{
 "cells": [
  {
   "cell_type": "markdown",
   "id": "12fec121",
   "metadata": {},
   "source": [
    "# Solutions!\n",
    "\n",
    "## A) yes.\n",
    "less, awk, or zgrep\n",
    "\n",
    "```\n",
    "zgrep \"\\./\\.\" testset.filtered.vcf.gz | wc -l\n",
    "```\n",
    "\n",
    "## B) example:\n",
    "```\n",
    "zgrep -v \"\\./\\.\" testset.filtered.vcf.gz | bgzip > testset.filtered.nomis_z.vcf.gz\n",
    "```\n",
    "\n",
    "or\n",
    "\n",
    "```\n",
    "bcftools view --exclude 'GT=\"./.\"' testset.filtered.vcf.gz | bgzip > testset.filtered.nomis.vcf.gz\n",
    "```\n",
    "\n",
    "```\n",
    "bcftools view -H testset.filtered.nomis.vcf.gz | wc -l # 1,042,000\n",
    "```\n",
    "\n",
    "## C) example with least effort:\n",
    "```\n",
    "for i in {10..31}; do\n",
    "bcftools view -H testset.filtered.vcf.gz | awk -v var=$i '$var==\"0/1\" {print $0}' | wc -l > counthet.$i.txt\n",
    "done\n",
    "cat counthet*.txt > allhets.txt\n",
    "```\n",
    "\n",
    "## D) \n",
    "```\n",
    "bcftools view -a -s \"DenisovaPinky\" testset.filtered.vcf.gz |  bcftools stats | grep \"C>T\" # 8475\n",
    "```\n",
    "\n",
    "## E) \n",
    "```\n",
    "bcftools view -s ^\"DenisovaPinky,AltaiNea\" testset.filtered.vcf.gz | bgzip > testset.filtered.human.vcf.gz\n",
    "```\n"
   ]
  },
  {
   "cell_type": "code",
   "execution_count": null,
   "id": "5e8c79d2",
   "metadata": {},
   "outputs": [],
   "source": []
  }
 ],
 "metadata": {
  "kernelspec": {
   "display_name": "Python 3 (ipykernel)",
   "language": "python",
   "name": "python3"
  },
  "language_info": {
   "codemirror_mode": {
    "name": "ipython",
    "version": 3
   },
   "file_extension": ".py",
   "mimetype": "text/x-python",
   "name": "python",
   "nbconvert_exporter": "python",
   "pygments_lexer": "ipython3",
   "version": "3.8.13"
  }
 },
 "nbformat": 4,
 "nbformat_minor": 5
}
