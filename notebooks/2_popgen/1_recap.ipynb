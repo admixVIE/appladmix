{
 "cells": [
  {
   "attachments": {
    "image-2.png": {
     "image/png": "[encoded data removed]"
    }
   },
   "cell_type": "markdown",
   "id": "32d48224",
   "metadata": {
    "jp-MarkdownHeadingCollapsed": true,
    "tags": []
   },
   "source": [
    "# Recapitulation\n",
    "\n",
    "## The terminal\n",
    "\n",
    "![image-2.png](attachment:image-2.png)\n",
    "\n",
    "\n",
    "### Framework\n",
    "\n",
    "* We use the command line to execute things in a Terminal.\n",
    "* There is a hierarchical file system: *directory/subdirectory/file.extension*.\n",
    "* This file system is at the base of any computer, and the direct interface with a remote server.\n",
    "* Files are often very large and because of that compressed, marked with extensions such as `.gz`.\n",
    "\n",
    "### Structures\n",
    "\n",
    "* Syntax: We execute *commands* with *-arguments* to perform actions on *.files*. Commands take *input* and give *output*.\n",
    "* You need to understand what each parameter of the applied tool does. If you don't know, first read the docs.\n",
    "* Second, try asking specific questions in *Google* etc.\n",
    "* Only then, you may ask ChatGPT for specific solutions.\n",
    "* We can re-use commands (*Ctrl-C Ctrl-V!*; scrolling with cursor arrows), and autocomplete with *TAB* key.\n",
    "* This is not secret knowledge, but *open source*: most problems have been encountered before!\n",
    "\n",
    "### Commands\n",
    "\n",
    "* Basic commands for navigation: `cd `, `ls`, `pwd` etc.\n",
    "* Basic commands to look at files, copy, remove: `less`, `wc`, `head`, `cp`, `rm` etc.\n",
    "* Basic commands to subset/modify files: `grep`, `cut`, `awk`, `sort` etc.\n",
    "* Regular expressions allow complex arguments (for example for pattern search): `==`, `>=`, `&&`, `[0-9]`, `^` etc.\n",
    "\n",
    "### Code and data\n",
    "\n",
    "* We used a GitHub repository for the code - git is a software to control code.\n",
    "* `R` can be used for statistics and visualisation (even as command line tool)!\n",
    "\n",
    "\n",
    "## Data\n",
    "\n",
    "### Genomes and sequencing data\n",
    "\n",
    "* A genome comes as fasta `.fa` - *always* looks like: header, sequence (possibly many rows).\n",
    "* Raw sequencing data comes as `.fastq` format, in a repeat pattern of *always* 4 rows per individual sequencing read (header, sequence, spaceholder, quality scores).\n",
    "* Mapping: finding the right spot in the reference genome (`.fa`) for each read in `.fastq` with `bwa` program.\n",
    "* Mapped sequencing data is stored in `.bam` (binary compressed) format, with *always* one line per read with *always* the same 11 columns for position, sequence, quality scores etc. (and possibly extra columns).\n",
    "* Common toolkit to analyse, generate statistics, filter: `samtools view`, `samtools sort`, `samtools stats` etc.\n",
    "\n",
    "\n",
    "### Genotype files\n",
    "\n",
    "* Genotype calling: determine the allele state for each position in the genome (`.fa`) for the mapped sequencing reads (`.bam`).\n",
    "* Commonly used program: `gatk HaplotypeCaller` - this is the standard for human genotype calling.\n",
    "* Genotypes are in `vcf` format, with *always* one line per genotype - but in \"gvcf\" file, it can be regions.\n",
    "* `vcf` files *always* have 9 columns with information (position, alleles), and then from column 10 on genotypes per sample.\n",
    "* Individual `vcf` files from new sequencing data - and population-scale data in multi-individual `vcf` files.\n",
    "* A toolkit to analyse, generate statistics, filter: `bcftools view` for regions (`-r`), individuals (`-s`), alleles (`-m2 -M2`)\n",
    "* `bcftools concat` across positions and `bcftools merge` across individuals.\n",
    "* `bcftools filter` for many possible things (`-i` to include *EXPRESSION*, `-e` to exclude).\n"
   ]
  },
  {
   "cell_type": "markdown",
   "id": "cf2886db",
   "metadata": {},
   "source": [
    "# Your directory\n",
    "\n",
    "```\n",
    "main=/lisc/scratch/course/2025w300072\n",
    " \n",
    "cd $main/yourdirectory\n",
    "```\n",
    "\n",
    "\n"
   ]
  },
  {
   "cell_type": "code",
   "execution_count": null,
   "id": "95130563",
   "metadata": {},
   "outputs": [],
   "source": []
  }
 ],
 "metadata": {
  "kernelspec": {
   "display_name": "Python 3 (ipykernel)",
   "language": "python",
   "name": "python3"
  },
  "language_info": {
   "codemirror_mode": {
    "name": "ipython",
    "version": 3
   },
   "file_extension": ".py",
   "mimetype": "text/x-python",
   "name": "python",
   "nbconvert_exporter": "python",
   "pygments_lexer": "ipython3",
   "version": "3.10.12"
  }
 },
 "nbformat": 4,
 "nbformat_minor": 5
}
