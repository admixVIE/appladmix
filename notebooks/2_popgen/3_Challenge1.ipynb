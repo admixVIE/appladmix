{
 "cells": [
  {
   "cell_type": "markdown",
   "id": "f6be7b97",
   "metadata": {},
   "source": [
    "# Now, we go for our first challenge!\n",
    "\n",
    "## The rules:\n",
    "\n",
    "* You got to know some tools, and with these you should be able to solve the questions below.\n",
    "\n",
    "\n",
    "* The goal is to try and find out! If not everything is done, it will be ok. Most important is to show how you approach the question.\n",
    "\n",
    "\n",
    "* Remember that there are manuals and help functions for each tool!\n",
    "\n",
    "\n",
    "* We try real-world conditions: you can use any resource.\n",
    "\n",
    "\n",
    "* Hand in your results on Moodle!\n",
    "\n",
    "\n",
    "Now, here is a new file, in the vcf format. You should perform some tasks and report how you did it and what you observed.\n",
    "\n",
    "```\n",
    "$\n",
    "```\n"
   ]
  },
  {
   "cell_type": "markdown",
   "id": "cb3839f3",
   "metadata": {},
   "source": [
    "## A)\n",
    "\n",
    "(filtering task, subsample specific number; 4P)\n",
    "\n",
    "**Result**: x (command)?\n"
   ]
  },
  {
   "cell_type": "markdown",
   "id": "62f05bb9",
   "metadata": {},
   "source": [
    "## B)\n",
    "\n",
    "(get homoz. alt number?; 2P)\n",
    "\n",
    "**Result**: .\n"
   ]
  },
  {
   "cell_type": "markdown",
   "id": "a4e7337a",
   "metadata": {},
   "source": [
    "## C)\n",
    "\n",
    "(admixture and plot; 4P)\n",
    "\n",
    "**Result**: \n",
    "\n"
   ]
  },
  {
   "cell_type": "code",
   "execution_count": null,
   "id": "2de4b5b1",
   "metadata": {},
   "outputs": [],
   "source": []
  }
 ],
 "metadata": {
  "kernelspec": {
   "display_name": "Python 3 (ipykernel)",
   "language": "python",
   "name": "python3"
  },
  "language_info": {
   "codemirror_mode": {
    "name": "ipython",
    "version": 3
   },
   "file_extension": ".py",
   "mimetype": "text/x-python",
   "name": "python",
   "nbconvert_exporter": "python",
   "pygments_lexer": "ipython3",
   "version": "3.10.12"
  }
 },
 "nbformat": 4,
 "nbformat_minor": 5
}
