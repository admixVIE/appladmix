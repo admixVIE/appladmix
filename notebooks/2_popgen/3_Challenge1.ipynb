{
 "cells": [
  {
   "cell_type": "markdown",
   "id": "f6be7b97",
   "metadata": {},
   "source": [
    "# Now, we go for our first challenge!\n",
    "\n",
    "## The rules:\n",
    "\n",
    "* You got to know some tools, and with these you should be able to solve the questions below.\n",
    "\n",
    "\n",
    "* The goal is to try and find out! If not everything is done, it will be ok. Most important is to show how you approach the question.\n",
    "\n",
    "\n",
    "* Remember that there are manuals and help functions for each tool!\n",
    "\n",
    "\n",
    "* We try real-world conditions: you can use any resource.\n",
    "\n",
    "\n",
    "* Hand in your results on Moodle!\n",
    "\n",
    "\n",
    "Now, here is a new file, in the vcf format. You should perform some tasks and report how you did it (code) and what you observed.\n",
    "\n",
    "```\n",
    "# VCF file:\n",
    "$main/share/pan_chr19.vcf.gz\n",
    "# Metadata:\n",
    "$main/share/pan_metadata.txt\n",
    "```\n"
   ]
  },
  {
   "cell_type": "markdown",
   "id": "cb3839f3",
   "metadata": {},
   "source": [
    "## A)\n",
    "\n",
    "* Filter the file! Retain only bi-allelic SNVs, and remove any missing data.\n",
    "\n",
    "\n",
    "* How many positions were removed?\n",
    "\n",
    "\n",
    "* Downsample this to ~70,000 SNVs! (Which proportion/percentage of the filtered dataset is this?)\n",
    "\n",
    "\n",
    "\n",
    "**Result**: Number of positions removed. Code to filter and subsample.\n",
    "\n",
    "5 possible points\n"
   ]
  },
  {
   "cell_type": "markdown",
   "id": "62f05bb9",
   "metadata": {},
   "source": [
    "## B)\n",
    "\n",
    "* What is the number of <u>homozygous alternative</u> alleles per individual (on the filtered file)?\n",
    "\n",
    "\n",
    "**Result**: Table with twol columns (individual name and number), and code to get there.\n",
    "\n",
    "\n",
    "2 possible points\n"
   ]
  },
  {
   "cell_type": "markdown",
   "id": "a4e7337a",
   "metadata": {},
   "source": [
    "## C)\n",
    "\n",
    "* Perform the ADMIXTURE clustering with <u>6</u> clusters!\n",
    "\n",
    "\n",
    "* Plot the results of this!\n",
    "\n",
    "\n",
    "**Result**: Code \n",
    "\n",
    "\n",
    "3 possible points\n",
    "\n"
   ]
  },
  {
   "cell_type": "code",
   "execution_count": null,
   "id": "2de4b5b1",
   "metadata": {},
   "outputs": [],
   "source": []
  }
 ],
 "metadata": {
  "kernelspec": {
   "display_name": "Python 3 (ipykernel)",
   "language": "python",
   "name": "python3"
  },
  "language_info": {
   "codemirror_mode": {
    "name": "ipython",
    "version": 3
   },
   "file_extension": ".py",
   "mimetype": "text/x-python",
   "name": "python",
   "nbconvert_exporter": "python",
   "pygments_lexer": "ipython3",
   "version": "3.8.13"
  }
 },
 "nbformat": 4,
 "nbformat_minor": 5
}
