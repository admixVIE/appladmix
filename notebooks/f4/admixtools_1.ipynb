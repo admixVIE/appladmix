{
 "cells": [
  {
   "cell_type": "markdown",
   "id": "0cc0d9cc",
   "metadata": {},
   "source": [
    "# Ancient Population Genetics with admixtools\n",
    "\n",
    "## admixtools\n",
    "\n",
    "The software commonly used in the ancient DNA field. It can calculate D-statistics, f-statistics, admixturegraphs, and other things.\n",
    "\n",
    "The basic software is openly available here:\n",
    "\n",
    "https://reich.hms.harvard.edu/software\n",
    "\n",
    "Background on what it is all about is here: \n",
    "\n",
    "https://reich.hms.harvard.edu/sites/reich.hms.harvard.edu/files/inline-files/2012_Patterson_AncientAdmixture_Genetics.pdf\n",
    "\n",
    "Since it is a pain to use for non-bioinformaticians (and often even for them), there is an R package to work flexibly with it:\n",
    "\n",
    "https://uqrmaie1.github.io/admixtools/articles/admixtools.html\n",
    "\n",
    "This is what we will use, so you need to install it. This will take some time, so start it now:\n",
    "\n",
    "```\n",
    "R --vanilla\n",
    "\n",
    "devtools::install_github(\"uqrmaie1/admixtools\",repos=\"https://cloud.r-project.org\",upgrade=\"always\")\n",
    "library(\"admixtools\")\n",
    "```\n",
    "\n",
    "The problem is that it will take quite some time. Here you see a common tradeoff: to make things easier, you may need to go through a laborious step. Once you completed it, tasks become easier, but you need to do the initial step.\n",
    "\n",
    "    The advantage of using an R package is that R is widely used in \n",
    "\n",
    "So, we let it run.\n",
    "\n",
    "\n",
    "## In the meantime, we get a quick intro to R!\n"
   ]
  },
  {
   "cell_type": "code",
   "execution_count": null,
   "id": "98449a6b",
   "metadata": {},
   "outputs": [],
   "source": []
  }
 ],
 "metadata": {
  "kernelspec": {
   "display_name": "Python 3 (ipykernel)",
   "language": "python",
   "name": "python3"
  },
  "language_info": {
   "codemirror_mode": {
    "name": "ipython",
    "version": 3
   },
   "file_extension": ".py",
   "mimetype": "text/x-python",
   "name": "python",
   "nbconvert_exporter": "python",
   "pygments_lexer": "ipython3",
   "version": "3.8.13"
  }
 },
 "nbformat": 4,
 "nbformat_minor": 5
}
