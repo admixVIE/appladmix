{
 "cells": [
  {
   "cell_type": "markdown",
   "id": "16824698",
   "metadata": {},
   "source": [
    "## Download SPrime"
   ]
  },
  {
   "cell_type": "code",
   "execution_count": null,
   "id": "ba2a83c4",
   "metadata": {},
   "outputs": [],
   "source": [
    "%%bash\n",
    "wget https://faculty.washington.edu/browning/sprime.jar"
   ]
  },
  {
   "cell_type": "markdown",
   "id": "fd4b841c",
   "metadata": {},
   "source": [
    "## Run SPrime"
   ]
  },
  {
   "cell_type": "code",
   "execution_count": null,
   "id": "15b0129b",
   "metadata": {},
   "outputs": [],
   "source": [
    "%%bash\n",
    "java -Xmx1g -jar sprime.jar gt=./data/chr21.YRI.CEU.biallelic.snps.vcf.gz outgroup=./data/YRI.list\\\n",
    "                            map=./data/plink.chr21.GRCh37.map out=chr21.CEU.introgressed"
   ]
  },
  {
   "cell_type": "markdown",
   "id": "5b260307",
   "metadata": {},
   "source": [
    "## Process SPrime output"
   ]
  },
  {
   "cell_type": "code",
   "execution_count": null,
   "id": "c2f14429",
   "metadata": {},
   "outputs": [],
   "source": [
    "%%bash\n",
    "python process_sprime_output.py chr21.CEU.introgressed.score chr21.CEU.introgressed.bed"
   ]
  },
  {
   "cell_type": "markdown",
   "id": "06429c31",
   "metadata": {},
   "source": [
    "## Results"
   ]
  },
  {
   "cell_type": "code",
   "execution_count": null,
   "id": "babb0bfa",
   "metadata": {},
   "outputs": [],
   "source": [
    "import pandas as pd\n",
    "res = pd.read_csv(\"chr21.CEU.introgressed.bed\", sep=\"\\t\", header=None)\n",
    "res.columns = ['chr', 'start', 'stop', 'segment', 'score']"
   ]
  },
  {
   "cell_type": "code",
   "execution_count": null,
   "id": "682be3ad",
   "metadata": {},
   "outputs": [],
   "source": [
    "res"
   ]
  }
 ],
 "metadata": {
  "kernelspec": {
   "display_name": "Python 3 (ipykernel)",
   "language": "python",
   "name": "python3"
  },
  "language_info": {
   "codemirror_mode": {
    "name": "ipython",
    "version": 3
   },
   "file_extension": ".py",
   "mimetype": "text/x-python",
   "name": "python",
   "nbconvert_exporter": "python",
   "pygments_lexer": "ipython3",
   "version": "3.10.5"
  }
 },
 "nbformat": 4,
 "nbformat_minor": 5
}
