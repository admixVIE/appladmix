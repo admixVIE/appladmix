{
 "cells": [
  {
   "cell_type": "markdown",
   "id": "e8df4d4e-cea4-4ef5-8733-393a309a784a",
   "metadata": {},
   "source": [
    "# The path from general to specific items in this course\n",
    "\n",
    "* **bash tools**: widely used for computer tasks in scientific environment\n",
    "\n",
    "* **sequence handling**: used in all fields that handle genetic data\n",
    "\n",
    "* **admixtools**: used in ancient DNA field and human history\n",
    "\n",
    "* **introgression detection**: tools for specific purpose within evolutionary genomics\n",
    "\n"
   ]
  },
  {
   "cell_type": "markdown",
   "id": "fbf573aa-64de-4104-87c3-4cea9b5d2f5d",
   "metadata": {},
   "source": [
    "# Brief recap \n",
    "\n",
    "## command line tools & bash\n",
    "\n",
    "* Navigation `cd` etc, file handling and filtering `awk` etc, `for` loops and `*` variables\n",
    "\n",
    "* Sequencing data tools `bwa`, `samtools`, `gatk`\n",
    "\n",
    "* VCF files are analyzed and filtered with `bcftools`\n",
    "\n",
    "* R as programming language - statistics - visualization\n",
    "\n",
    "\n",
    "## ancient DNA data\n",
    "\n",
    "* often stored in eigenstrat format\n",
    "\n",
    "Three files with genotypes, list of individuals and SNP information:\n",
    "```\n",
    "data.geno\n",
    "data.ind\n",
    "data.snp\n",
    "```\n",
    "\n",
    "* admixtools as toolbox to generate f-statistics and explore population relationships\n",
    "\n",
    "* admixtools R package to make it easier to interpret\n",
    "\n",
    "* f4-statistics to detect admixture between populations (like Neanderthal-human gene flow)\n",
    "\n",
    "* admixturegraphs to build a topological relationship\n"
   ]
  },
  {
   "cell_type": "markdown",
   "id": "d51dec83-f024-40cb-98d5-bd0f9f7e8293",
   "metadata": {},
   "source": [
    "# Now: detecting introgressed fragments!"
   ]
  },
  {
   "cell_type": "code",
   "execution_count": null,
   "id": "68d0e398-bcd2-4f71-82df-f2aab0e3950a",
   "metadata": {},
   "outputs": [],
   "source": []
  }
 ],
 "metadata": {
  "kernelspec": {
   "display_name": "Python 3 (ipykernel)",
   "language": "python",
   "name": "python3"
  },
  "language_info": {
   "codemirror_mode": {
    "name": "ipython",
    "version": 3
   },
   "file_extension": ".py",
   "mimetype": "text/x-python",
   "name": "python",
   "nbconvert_exporter": "python",
   "pygments_lexer": "ipython3",
   "version": "3.8.13"
  }
 },
 "nbformat": 4,
 "nbformat_minor": 5
}
