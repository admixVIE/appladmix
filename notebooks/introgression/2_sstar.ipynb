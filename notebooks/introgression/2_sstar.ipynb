{
 "cells": [
  {
   "cell_type": "markdown",
   "id": "16824698",
   "metadata": {},
   "source": [
    "# Introduction\n",
    "\n",
    "## What is introgression\n",
    "\n",
    "Introgression is the phenomenon that genetic materials move from one lineage into another lineage between two different species.\n",
    "\n",
    "<img src=\"https://upload.wikimedia.org/wikipedia/commons/thumb/b/b8/Homo_sapiens_lineage.svg/1200px-Homo_sapiens_lineage.svg.png\" alt=\"human_introgression\" width=\"500\"/>\n",
    "\n",
    "**Figure 1 Interbreeding between archaic and modern humans.** This figure is from https://en.wikipedia.org/wiki/Interbreeding_between_archaic_and_modern_humans.\n",
    "\n",
    "## Strategies for identifying introgressed regions\n",
    "\n",
    "There are two major strategies to indentify introgressed regions.\n",
    "1. If we have genomes from source populations, for example, genomes from Neanderthals, we can compare modern human genomes with Neanderthal genomes directly.\n",
    "2. If we do not have source genomes, for example, we want to indentify introgression from an unknown lineage (ghost introgression), we can apply some statistical models to find out unusal regions.\n",
    "\n",
    "Several tools can identify introgression without source populations.\n",
    "- [SkovHMM](https://github.com/LauritsSkov/Introgression-detection)\n",
    "- [sstar](https://github.com/admixVIE/sstar)\n",
    "- [SPrime](https://github.com/browning-lab/sprime)\n",
    "\n",
    "Here, we will try **sstar**, one of the available tools for this purpose.\n",
    "\n",
    "There is extensive documentation here: https://sstar.readthedocs.io/en/latest/\n",
    "\n",
    "## sstar\n",
    "\n",
    "The very first thing: install it through the command line!\n",
    "\n",
    "```\n",
    "export LD_LIBRARY_PATH=/usr/local/lib/R/lib:$LD_LIBRARY_PATH\n",
    "\n",
    "pip install sstar\n",
    "```\n",
    "\n",
    "And get the data:\n",
    "```\n",
    "mkdir ~/notebooks/introgression/data/\n",
    "cd ~/notebooks/introgression/data/\n",
    "\n",
    "wget https://ucloud.univie.ac.at/index.php/s/sjVDEgg2KDvI9u8/download\n",
    "\n",
    "tar -zxvf download\n",
    "```\n",
    "\n",
    "This is the same vcf file used in the first Challenge session. That means, we want to make sure there are no missing data in our dataset. We already know how to do that:\n",
    "\n",
    "```\n",
    "bcftools view --exclude 'GT=\"./.\"' testset.filtered.vcf.gz | bgzip > testset.filtered.nomis.vcf.gz\n",
    "```\n"
   ]
  },
  {
   "cell_type": "markdown",
   "id": "95f5dff6-8552-445c-b16c-9a83090a1ee0",
   "metadata": {},
   "source": [
    "## What is sstar?\n",
    "\n",
    "steps\n"
   ]
  },
  {
   "cell_type": "markdown",
   "id": "b24bf762-17f4-4caa-a0d5-678de3db1f17",
   "metadata": {},
   "source": [
    "## Calculating S* scores\n",
    "\n",
    "\n",
    "Then\n",
    "\n",
    "- ref &tgt ind list\n",
    "\n",
    "scores\n",
    "\n",
    "quantiles\n",
    "\n",
    "threshold\n",
    "\n",
    "matchrate\n",
    "\n",
    "tract\n",
    "\n"
   ]
  },
  {
   "cell_type": "code",
   "execution_count": null,
   "id": "b8e671fe-6786-4b89-a83b-011e3cd66b9b",
   "metadata": {},
   "outputs": [],
   "source": [
    "## Using a demographic model to know what is significant\n"
   ]
  },
  {
   "cell_type": "code",
   "execution_count": null,
   "id": "6da4deba-ec14-4286-9cac-bd7f468c9fc1",
   "metadata": {},
   "outputs": [],
   "source": [
    "## applying the threshold\n"
   ]
  },
  {
   "cell_type": "code",
   "execution_count": null,
   "id": "223af31c-1ca0-41c7-aa9f-c9ba92536219",
   "metadata": {},
   "outputs": [],
   "source": [
    "## Calculating the match to a source population\n"
   ]
  },
  {
   "cell_type": "code",
   "execution_count": null,
   "id": "f46c06c2-57c7-4733-b98f-eb35400bae13",
   "metadata": {},
   "outputs": [],
   "source": [
    "## Get the introgressed tracts"
   ]
  },
  {
   "cell_type": "code",
   "execution_count": null,
   "id": "a0940279-1c62-48c7-acaa-6e00e8bcf8f6",
   "metadata": {},
   "outputs": [],
   "source": []
  }
 ],
 "metadata": {
  "kernelspec": {
   "display_name": "Python 3 (ipykernel)",
   "language": "python",
   "name": "python3"
  },
  "language_info": {
   "codemirror_mode": {
    "name": "ipython",
    "version": 3
   },
   "file_extension": ".py",
   "mimetype": "text/x-python",
   "name": "python",
   "nbconvert_exporter": "python",
   "pygments_lexer": "ipython3",
   "version": "3.8.13"
  }
 },
 "nbformat": 4,
 "nbformat_minor": 5
}
