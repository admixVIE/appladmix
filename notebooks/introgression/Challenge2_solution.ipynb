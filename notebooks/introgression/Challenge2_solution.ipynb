{
 "cells": [
  {
   "cell_type": "markdown",
   "id": "3ca62851-106c-4b59-a06d-a1ca33acafdb",
   "metadata": {},
   "source": [
    "\n",
    "## A)\n",
    "\n",
    "\n",
    "\n",
    "\n",
    "## B)\n",
    "\n",
    "Load table into R:\n",
    "\n",
    "Solution for simple barplots:\n",
    "\n",
    "Solution for nice violinplots:\n",
    "\n",
    "\n",
    "## C)\n",
    "\n",
    "Install gdc (and, as in the previous lecture, the admixtools package):\n",
    "\n",
    "```\n",
    "cd ~/\n",
    "git clone https://github.com/mathii/gdc.git\n",
    "```\n",
    "\n",
    "Get data:\n",
    "```\n",
    "python2 ~/gdc/vcf2eigenstrat.py -v testset.filtered.vcf.gz -o testset -i testset_1.ind\n",
    "```\n",
    "\n",
    "Analyse with admixtools:\n",
    "\n",
    "```\n",
    "R --vanilla\n",
    "library(admixtools)\n",
    "library(dplyr)\n",
    "options(scipen=100)\n",
    "\n",
    "extract_f2(pref=\"testset\",\n",
    "    outdir=\"genos\",blgsize=500000,\n",
    "    overwrite=T,maxmem=500\n",
    ")\n",
    "\n",
    "f2_blocks = f2_from_precomp(\"genos\")\n",
    "f4_table1<-f4(f2_blocks,pop1=\"YRI\", pop2=\"IBS\",pop3=\"NEA\", pop4=\"DEN\")\n",
    "```\n",
    "\n",
    "IBS has more shared alleles with NEA than expected due to gene flow.\n",
    "\n",
    "```\n",
    "pop1  pop2  pop3  pop4       est       se     z      p\n",
    "  <chr> <chr> <chr> <chr>    <dbl>    <dbl> <dbl>  <dbl>\n",
    "1 YRI   IBS   NEA   DEN   -0.00202 0.000905 -2.24 0.0254\n",
    "```\n"
   ]
  },
  {
   "cell_type": "code",
   "execution_count": null,
   "id": "c8123c3e-36a1-4eb0-a391-9325660b38ed",
   "metadata": {},
   "outputs": [],
   "source": []
  }
 ],
 "metadata": {
  "kernelspec": {
   "display_name": "Python 3 (ipykernel)",
   "language": "python",
   "name": "python3"
  },
  "language_info": {
   "codemirror_mode": {
    "name": "ipython",
    "version": 3
   },
   "file_extension": ".py",
   "mimetype": "text/x-python",
   "name": "python",
   "nbconvert_exporter": "python",
   "pygments_lexer": "ipython3",
   "version": "3.8.13"
  }
 },
 "nbformat": 4,
 "nbformat_minor": 5
}
