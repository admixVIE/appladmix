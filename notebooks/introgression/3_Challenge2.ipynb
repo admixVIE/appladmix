{
 "cells": [
  {
   "cell_type": "markdown",
   "id": "415f0298-eab6-469c-b7b8-9906aad2c666",
   "metadata": {},
   "source": [
    "# And now: Challenge 2\n",
    "\n",
    "## The rules are the same:\n",
    "\n",
    "* You got to know some tools, and with these you should be able to solve the questions below.\n",
    "\n",
    "\n",
    "* The goal is to try and find out! If not everything is done, it will be ok.\n",
    "\n",
    "\n",
    "* Remember that there are help functions amd manuals (also online!) for most tools!\n",
    "\n",
    "\n",
    "* Google is explicitly allowed!\n",
    "\n",
    "\n",
    "* Helping each other and discussing is good practice as well.\n",
    "\n",
    "\n",
    "* Hand in your results on Moodle!\n",
    "\n"
   ]
  },
  {
   "cell_type": "markdown",
   "id": "0064c355-86fb-4b9c-b22b-3685531ce9ff",
   "metadata": {
    "jp-MarkdownHeadingCollapsed": true,
    "tags": []
   },
   "source": [
    "## A)\n",
    "Convert the genotypes to eigenstrat format, and test the **f4-statistic** of the form (Yoruba,Spanish;Neandertal,Denisovan).\n",
    "\n",
    "**Result:** Code to perform this task, and f4-statistic output.\n",
    "\n",
    "Hint: you need to install admixtools (as in the previous session), which will take some time. You may do this in one browser tab, and meanwhile open another tab for the next challenge.\n"
   ]
  },
  {
   "cell_type": "markdown",
   "id": "6b57c2d3-422b-4556-a4e4-d796a2fc1b8f",
   "metadata": {},
   "source": [
    "## B)\n",
    "How many **Denisovan-like introgressed fragments** are there in each Spanish individual (matchrate >0.33)?\n",
    "\n",
    "**Result:** commands to get these results, and numbers of fragments.\n",
    "\n",
    "Hint: you may calculate that regardless of being also Neandertal-like, or do a comparison between them.\n"
   ]
  },
  {
   "cell_type": "markdown",
   "id": "b1229af2-f467-4377-a7e1-1b5fdfd50468",
   "metadata": {},
   "source": [
    "## C)\n",
    "**Plot** the number and cumulative amount of Denisovan and Neandertal fragments in each individual! This could be as simple as separate barplots, or, if you are more familiar with plotting in R, more fancy figures.\n",
    "\n",
    "**Result:** Plots & the code to get there (R or another language if you know one).\n"
   ]
  },
  {
   "cell_type": "markdown",
   "id": "039b401b-0565-4f3c-bf7c-1c9815799d8d",
   "metadata": {},
   "source": [
    "## D) [bonus if you are bored]\n",
    "\n",
    "Get the **matchrates** for both Neanderthal and Denisovan, and create a countour plot!\n",
    "\n",
    "**Result:** Code to do this.\n"
   ]
  },
  {
   "cell_type": "code",
   "execution_count": null,
   "id": "7b2c57a3-b8cf-4c1c-9be4-224ee0f47d9d",
   "metadata": {},
   "outputs": [],
   "source": []
  }
 ],
 "metadata": {
  "kernelspec": {
   "display_name": "Python 3 (ipykernel)",
   "language": "python",
   "name": "python3"
  },
  "language_info": {
   "codemirror_mode": {
    "name": "ipython",
    "version": 3
   },
   "file_extension": ".py",
   "mimetype": "text/x-python",
   "name": "python",
   "nbconvert_exporter": "python",
   "pygments_lexer": "ipython3",
   "version": "3.8.13"
  }
 },
 "nbformat": 4,
 "nbformat_minor": 5
}
