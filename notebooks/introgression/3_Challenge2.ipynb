{
 "cells": [
  {
   "cell_type": "markdown",
   "id": "415f0298-eab6-469c-b7b8-9906aad2c666",
   "metadata": {},
   "source": [
    "# And now: Challenge 2\n",
    "\n",
    "## The rules are the same:\n",
    "\n",
    "* You got to know some tools, and with these you should be able to solve the questions below.\n",
    "\n",
    "\n",
    "* The goal is to try and find out! If not everything is done, it will be ok.\n",
    "\n",
    "\n",
    "* Remember that there are manuals and help functions for most tools!\n",
    "\n",
    "\n",
    "* Google is explicitly allowed!\n",
    "\n",
    "\n",
    "* Helping each other and discussing is good practice as well.\n",
    "\n",
    "\n",
    "* Hand in your results on Moodle!\n",
    "\n"
   ]
  },
  {
   "cell_type": "markdown",
   "id": "6b57c2d3-422b-4556-a4e4-d796a2fc1b8f",
   "metadata": {},
   "source": [
    "## A)\n",
    "How many **Denisovan-introgressed fragments** are there in each Spanish individual?\n",
    "\n",
    "**Result:** commands to get these results, and numbers of fragments.\n"
   ]
  },
  {
   "cell_type": "markdown",
   "id": "b1229af2-f467-4377-a7e1-1b5fdfd50468",
   "metadata": {},
   "source": [
    "## B)\n",
    "**Plot** the number of Denisovan and Neandertal fragments in each individual! This could be as simple as two separate barplots!\n",
    "\n",
    "**Result:** Plots & the code to get there (R or another language if you know one).\n"
   ]
  },
  {
   "cell_type": "markdown",
   "id": "0064c355-86fb-4b9c-b22b-3685531ce9ff",
   "metadata": {},
   "source": [
    "## C)\n",
    "Convert the genotypes to eigenstrat format, and test the **f4-statistic** of the form (Yoruba,Spanish;Neandertal,Denisovan).\n",
    "You may use the gdc repository & the python script vcf2eigenstrat for conversion (`git clone https://github.com/mathii/gdc.git` then `python2 ~/gdc/vcf2eigenstrat.py -v [...] -o [...] -i [...]`).\n",
    "\n",
    "**Result:** Code to perform this task, and f4-statistic output.\n"
   ]
  },
  {
   "cell_type": "code",
   "execution_count": null,
   "id": "dc5202eb-d5f8-419d-92b7-b5a03dc95d09",
   "metadata": {},
   "outputs": [],
   "source": []
  }
 ],
 "metadata": {
  "kernelspec": {
   "display_name": "Python 3 (ipykernel)",
   "language": "python",
   "name": "python3"
  },
  "language_info": {
   "codemirror_mode": {
    "name": "ipython",
    "version": 3
   },
   "file_extension": ".py",
   "mimetype": "text/x-python",
   "name": "python",
   "nbconvert_exporter": "python",
   "pygments_lexer": "ipython3",
   "version": "3.8.13"
  }
 },
 "nbformat": 4,
 "nbformat_minor": 5
}
